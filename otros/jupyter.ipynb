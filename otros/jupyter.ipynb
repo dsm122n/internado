# %% [markdown]
# # hola mundo
# ![hola mundo](tto_emergencias_hta.jpeg)

# %%

2*2

# %%



